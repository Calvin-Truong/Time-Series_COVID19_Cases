{
 "cells": [
  {
   "cell_type": "code",
   "execution_count": 1,
   "metadata": {},
   "outputs": [
    {
     "data": {
      "text/html": [
       "<div>\n",
       "<style scoped>\n",
       "    .dataframe tbody tr th:only-of-type {\n",
       "        vertical-align: middle;\n",
       "    }\n",
       "\n",
       "    .dataframe tbody tr th {\n",
       "        vertical-align: top;\n",
       "    }\n",
       "\n",
       "    .dataframe thead th {\n",
       "        text-align: right;\n",
       "    }\n",
       "</style>\n",
       "<table border=\"1\" class=\"dataframe\">\n",
       "  <thead>\n",
       "    <tr style=\"text-align: right;\">\n",
       "      <th></th>\n",
       "      <th>total</th>\n",
       "    </tr>\n",
       "    <tr>\n",
       "      <th>date</th>\n",
       "      <th></th>\n",
       "    </tr>\n",
       "  </thead>\n",
       "  <tbody>\n",
       "    <tr>\n",
       "      <th>2020-01-22</th>\n",
       "      <td>1</td>\n",
       "    </tr>\n",
       "    <tr>\n",
       "      <th>2020-01-23</th>\n",
       "      <td>1</td>\n",
       "    </tr>\n",
       "    <tr>\n",
       "      <th>2020-01-24</th>\n",
       "      <td>2</td>\n",
       "    </tr>\n",
       "    <tr>\n",
       "      <th>2020-01-25</th>\n",
       "      <td>2</td>\n",
       "    </tr>\n",
       "    <tr>\n",
       "      <th>2020-01-26</th>\n",
       "      <td>5</td>\n",
       "    </tr>\n",
       "  </tbody>\n",
       "</table>\n",
       "</div>"
      ],
      "text/plain": [
       "            total\n",
       "date             \n",
       "2020-01-22      1\n",
       "2020-01-23      1\n",
       "2020-01-24      2\n",
       "2020-01-25      2\n",
       "2020-01-26      5"
      ]
     },
     "execution_count": 1,
     "metadata": {},
     "output_type": "execute_result"
    }
   ],
   "source": [
    "import pandas as pd\n",
    "import numpy as np\n",
    "%matplotlib inline\n",
    "pd.options.display.float_format = '{:.2f}'.format\n",
    "\n",
    "#Read excel dataset\n",
    "df = pd.read_excel('timeseries_covid19_us_confirmed.xlsx',index_col='date',parse_dates=True)\n",
    "\n",
    "#since US is irrelevant in this dataframe\n",
    "df = df.drop(columns=['country'])\n",
    "df.head()"
   ]
  },
  {
   "cell_type": "code",
   "execution_count": 2,
   "metadata": {},
   "outputs": [
    {
     "data": {
      "text/html": [
       "<div>\n",
       "<style scoped>\n",
       "    .dataframe tbody tr th:only-of-type {\n",
       "        vertical-align: middle;\n",
       "    }\n",
       "\n",
       "    .dataframe tbody tr th {\n",
       "        vertical-align: top;\n",
       "    }\n",
       "\n",
       "    .dataframe thead th {\n",
       "        text-align: right;\n",
       "    }\n",
       "</style>\n",
       "<table border=\"1\" class=\"dataframe\">\n",
       "  <thead>\n",
       "    <tr style=\"text-align: right;\">\n",
       "      <th></th>\n",
       "      <th>total</th>\n",
       "    </tr>\n",
       "    <tr>\n",
       "      <th>date</th>\n",
       "      <th></th>\n",
       "    </tr>\n",
       "  </thead>\n",
       "  <tbody>\n",
       "    <tr>\n",
       "      <th>2020-11-14</th>\n",
       "      <td>10903890</td>\n",
       "    </tr>\n",
       "    <tr>\n",
       "      <th>2020-11-15</th>\n",
       "      <td>11036935</td>\n",
       "    </tr>\n",
       "    <tr>\n",
       "      <th>2020-11-16</th>\n",
       "      <td>11195388</td>\n",
       "    </tr>\n",
       "    <tr>\n",
       "      <th>2020-11-17</th>\n",
       "      <td>11357322</td>\n",
       "    </tr>\n",
       "    <tr>\n",
       "      <th>2020-11-18</th>\n",
       "      <td>11527483</td>\n",
       "    </tr>\n",
       "  </tbody>\n",
       "</table>\n",
       "</div>"
      ],
      "text/plain": [
       "               total\n",
       "date                \n",
       "2020-11-14  10903890\n",
       "2020-11-15  11036935\n",
       "2020-11-16  11195388\n",
       "2020-11-17  11357322\n",
       "2020-11-18  11527483"
      ]
     },
     "execution_count": 2,
     "metadata": {},
     "output_type": "execute_result"
    }
   ],
   "source": [
    "df.tail()"
   ]
  },
  {
   "cell_type": "code",
   "execution_count": 3,
   "metadata": {},
   "outputs": [
    {
     "data": {
      "text/plain": [
       "DatetimeIndex(['2020-09-20', '2020-09-21', '2020-09-22', '2020-09-23',\n",
       "               '2020-09-24', '2020-09-25', '2020-09-26', '2020-09-27',\n",
       "               '2020-09-28', '2020-09-29', '2020-09-30', '2020-10-01',\n",
       "               '2020-10-02', '2020-10-03', '2020-10-04', '2020-10-05',\n",
       "               '2020-10-06', '2020-10-07', '2020-10-08', '2020-10-09',\n",
       "               '2020-10-10', '2020-10-11', '2020-10-12', '2020-10-13',\n",
       "               '2020-10-14', '2020-10-15', '2020-10-16', '2020-10-17',\n",
       "               '2020-10-18', '2020-10-19', '2020-10-20', '2020-10-21',\n",
       "               '2020-10-22', '2020-10-23', '2020-10-24', '2020-10-25',\n",
       "               '2020-10-26', '2020-10-27', '2020-10-28', '2020-10-29',\n",
       "               '2020-10-30', '2020-10-31', '2020-11-01', '2020-11-02',\n",
       "               '2020-11-03', '2020-11-04', '2020-11-05', '2020-11-06',\n",
       "               '2020-11-07', '2020-11-08', '2020-11-09', '2020-11-10',\n",
       "               '2020-11-11', '2020-11-12', '2020-11-13', '2020-11-14',\n",
       "               '2020-11-15', '2020-11-16', '2020-11-17', '2020-11-18'],\n",
       "              dtype='datetime64[ns]', name='date', freq=None)"
      ]
     },
     "execution_count": 3,
     "metadata": {},
     "output_type": "execute_result"
    }
   ],
   "source": [
    "train_data = df.iloc[:242] # Goes up to but not including 242\n",
    "#train_data = train_data.astype('double')\n",
    "test_data = df.iloc[242:]\n",
    "#test_data = test_data.astype('double')\n",
    "test_data.index"
   ]
  },
  {
   "cell_type": "code",
   "execution_count": 4,
   "metadata": {},
   "outputs": [],
   "source": [
    "from statsmodels.tsa.holtwinters import ExponentialSmoothing\n",
    "import warnings\n",
    "warnings.filterwarnings(\"ignore\")\n",
    "\n",
    "fitted_model = ExponentialSmoothing(train_data['total'],trend='mul',seasonal='mul',seasonal_periods=7).fit()"
   ]
  },
  {
   "cell_type": "code",
   "execution_count": 7,
   "metadata": {},
   "outputs": [
    {
     "data": {
      "text/plain": [
       "2020-09-20   6792599.98\n",
       "2020-09-21   6823433.77\n",
       "2020-09-22   6859234.19\n",
       "2020-09-23   6897742.27\n",
       "2020-09-24   6942690.15\n",
       "2020-09-25   6994527.90\n",
       "2020-09-26   7044113.55\n",
       "2020-09-27   7079736.42\n",
       "2020-09-28   7111873.61\n",
       "2020-09-29   7149187.39\n",
       "2020-09-30   7189323.28\n",
       "2020-10-01   7236171.19\n",
       "2020-10-02   7290200.22\n",
       "2020-10-03   7341881.95\n",
       "2020-10-04   7379010.67\n",
       "2020-10-05   7412506.36\n",
       "2020-10-06   7451397.46\n",
       "2020-10-07   7493229.98\n",
       "2020-10-08   7542058.24\n",
       "2020-10-09   7598371.19\n",
       "2020-10-10   7652237.61\n",
       "2020-10-11   7690935.83\n",
       "2020-10-12   7725847.44\n",
       "2020-10-13   7766382.55\n",
       "2020-10-14   7809983.41\n",
       "2020-10-15   7860875.74\n",
       "2020-10-16   7919569.14\n",
       "2020-10-17   7975712.60\n",
       "2020-10-18   8016046.67\n",
       "2020-10-19   8052434.06\n",
       "2020-10-20   8094682.67\n",
       "2020-10-21   8140126.62\n",
       "2020-10-22   8193170.27\n",
       "2020-10-23   8254344.76\n",
       "2020-10-24   8312861.51\n",
       "2020-10-25   8354900.57\n",
       "2020-10-26   8392826.14\n",
       "2020-10-27   8436860.68\n",
       "2020-10-28   8484225.63\n",
       "2020-10-29   8539511.54\n",
       "2020-10-30   8603271.99\n",
       "2020-10-31   8664262.36\n",
       "2020-11-01   8708078.50\n",
       "2020-11-02   8747607.25\n",
       "2020-11-03   8793503.22\n",
       "2020-11-04   8842870.38\n",
       "2020-11-05   8900493.33\n",
       "2020-11-06   8966949.06\n",
       "2020-11-07   9030517.61\n",
       "2020-11-08   9076185.94\n",
       "2020-11-09   9117385.65\n",
       "2020-11-10   9165221.73\n",
       "2020-11-11   9216675.74\n",
       "2020-11-12   9276734.52\n",
       "2020-11-13   9345999.46\n",
       "2020-11-14   9412255.18\n",
       "2020-11-15   9459854.00\n",
       "2020-11-16   9502795.30\n",
       "2020-11-17   9552653.50\n",
       "2020-11-18   9606282.57\n",
       "Freq: D, Name: Case Forecast, dtype: float64"
      ]
     },
     "execution_count": 7,
     "metadata": {},
     "output_type": "execute_result"
    }
   ],
   "source": [
    "test_predictions = fitted_model.forecast(60).rename('Case Forecast')\n",
    "test_predictions"
   ]
  },
  {
   "cell_type": "code",
   "execution_count": 8,
   "metadata": {},
   "outputs": [
    {
     "data": {
      "image/png": "[encoded data removed]",
      "text/plain": [
       "<Figure size 1080x720 with 1 Axes>"
      ]
     },
     "metadata": {
      "needs_background": "light"
     },
     "output_type": "display_data"
    }
   ],
   "source": [
    "train_data['total'].plot(legend=True,label='TRAIN')\n",
    "test_data['total'].plot(legend=True,label='TEST',figsize=(15,10))\n",
    "test_predictions.plot(legend=True,label='PREDICTION');"
   ]
  },
  {
   "cell_type": "code",
   "execution_count": 9,
   "metadata": {},
   "outputs": [
    {
     "data": {
      "image/png": "[encoded data removed]",
      "text/plain": [
       "<Figure size 1080x720 with 1 Axes>"
      ]
     },
     "metadata": {
      "needs_background": "light"
     },
     "output_type": "display_data"
    }
   ],
   "source": [
    "train_data['total'].plot(legend=True,label='TRAIN')\n",
    "test_data['total'].plot(legend=True,label='TEST',figsize=(15,10))\n",
    "#let's zoom into the period we were predicting for\n",
    "test_predictions.plot(legend=True,label='PREDICTION',xlim=['9/17/2020','11/20/2020']);"
   ]
  },
  {
   "cell_type": "code",
   "execution_count": 10,
   "metadata": {},
   "outputs": [],
   "source": [
    "from sklearn.metrics import mean_squared_error,mean_absolute_error"
   ]
  },
  {
   "cell_type": "code",
   "execution_count": 12,
   "metadata": {},
   "outputs": [
    {
     "data": {
      "text/plain": [
       "416912.65773325687"
      ]
     },
     "execution_count": 12,
     "metadata": {},
     "output_type": "execute_result"
    }
   ],
   "source": [
    "mean_absolute_error(test_data,test_predictions)"
   ]
  },
  {
   "cell_type": "code",
   "execution_count": 14,
   "metadata": {},
   "outputs": [
    {
     "data": {
      "text/plain": [
       "451241030828.88965"
      ]
     },
     "execution_count": 14,
     "metadata": {},
     "output_type": "execute_result"
    }
   ],
   "source": [
    "mean_squared_error(test_data,test_predictions)"
   ]
  },
  {
   "cell_type": "code",
   "execution_count": 16,
   "metadata": {},
   "outputs": [
    {
     "data": {
      "text/plain": [
       "671744.7661343478"
      ]
     },
     "execution_count": 16,
     "metadata": {},
     "output_type": "execute_result"
    }
   ],
   "source": [
    "np.sqrt(mean_squared_error(test_data,test_predictions))"
   ]
  },
  {
   "cell_type": "code",
   "execution_count": 18,
   "metadata": {},
   "outputs": [
    {
     "data": {
      "text/html": [
       "<div>\n",
       "<style scoped>\n",
       "    .dataframe tbody tr th:only-of-type {\n",
       "        vertical-align: middle;\n",
       "    }\n",
       "\n",
       "    .dataframe tbody tr th {\n",
       "        vertical-align: top;\n",
       "    }\n",
       "\n",
       "    .dataframe thead th {\n",
       "        text-align: right;\n",
       "    }\n",
       "</style>\n",
       "<table border=\"1\" class=\"dataframe\">\n",
       "  <thead>\n",
       "    <tr style=\"text-align: right;\">\n",
       "      <th></th>\n",
       "      <th>total</th>\n",
       "    </tr>\n",
       "  </thead>\n",
       "  <tbody>\n",
       "    <tr>\n",
       "      <th>count</th>\n",
       "      <td>60.00</td>\n",
       "    </tr>\n",
       "    <tr>\n",
       "      <th>mean</th>\n",
       "      <td>8538448.17</td>\n",
       "    </tr>\n",
       "    <tr>\n",
       "      <th>std</th>\n",
       "      <td>1332108.82</td>\n",
       "    </tr>\n",
       "    <tr>\n",
       "      <th>min</th>\n",
       "      <td>6792454.00</td>\n",
       "    </tr>\n",
       "    <tr>\n",
       "      <th>25%</th>\n",
       "      <td>7426597.75</td>\n",
       "    </tr>\n",
       "    <tr>\n",
       "      <th>50%</th>\n",
       "      <td>8232494.00</td>\n",
       "    </tr>\n",
       "    <tr>\n",
       "      <th>75%</th>\n",
       "      <td>9431263.25</td>\n",
       "    </tr>\n",
       "    <tr>\n",
       "      <th>max</th>\n",
       "      <td>11527483.00</td>\n",
       "    </tr>\n",
       "  </tbody>\n",
       "</table>\n",
       "</div>"
      ],
      "text/plain": [
       "            total\n",
       "count       60.00\n",
       "mean   8538448.17\n",
       "std    1332108.82\n",
       "min    6792454.00\n",
       "25%    7426597.75\n",
       "50%    8232494.00\n",
       "75%    9431263.25\n",
       "max   11527483.00"
      ]
     },
     "execution_count": 18,
     "metadata": {},
     "output_type": "execute_result"
    }
   ],
   "source": [
    "test_data.describe() #we want to compare MSE with Avergae of Test Data, or RMSE with STD of overall True Data"
   ]
  },
  {
   "cell_type": "markdown",
   "metadata": {},
   "source": [
    "## Forecasting into Future"
   ]
  },
  {
   "cell_type": "code",
   "execution_count": 19,
   "metadata": {},
   "outputs": [],
   "source": [
    "final_model = ExponentialSmoothing(df['total'],trend='mul',seasonal='mul',seasonal_periods=7).fit()"
   ]
  },
  {
   "cell_type": "code",
   "execution_count": 21,
   "metadata": {},
   "outputs": [
    {
     "data": {
      "text/plain": [
       "2020-11-19   11714725.90\n",
       "2020-11-20   11905480.82\n",
       "2020-11-21   12083389.11\n",
       "2020-11-22   12230237.42\n",
       "2020-11-23   12399905.68\n",
       "2020-11-24   12583441.87\n",
       "2020-11-25   12775773.95\n",
       "2020-11-26   12979665.49\n",
       "2020-11-27   13191017.86\n",
       "2020-11-28   13388136.44\n",
       "2020-11-29   13550841.22\n",
       "2020-11-30   13738830.03\n",
       "2020-12-01   13942184.19\n",
       "2020-12-02   14155284.02\n",
       "2020-12-03   14381191.48\n",
       "2020-12-04   14615365.38\n",
       "2020-12-05   14833768.54\n",
       "2020-12-06   15014041.96\n",
       "2020-12-07   15222329.53\n",
       "2020-12-08   15447641.60\n",
       "2020-12-09   15683751.64\n",
       "2020-12-10   15934052.27\n",
       "2020-12-11   16193511.94\n",
       "2020-12-12   16435497.96\n",
       "2020-12-13   16635237.06\n",
       "2020-12-14   16866015.22\n",
       "2020-12-15   17115656.17\n",
       "2020-12-16   17377261.04\n",
       "2020-12-17   17654588.78\n",
       "2020-12-18   17942064.54\n",
       "2020-12-19   18210179.87\n",
       "2020-12-20   18431486.51\n",
       "2020-12-21   18687183.78\n",
       "2020-12-22   18963780.60\n",
       "2020-12-23   19253633.19\n",
       "2020-12-24   19560906.40\n",
       "2020-12-25   19879423.38\n",
       "2020-12-26   20176489.43\n",
       "2020-12-27   20421692.45\n",
       "2020-12-28   20704999.55\n",
       "2020-12-29   21011462.90\n",
       "2020-12-30   21332613.37\n",
       "2020-12-31   21673065.50\n",
       "Freq: D, dtype: float64"
      ]
     },
     "execution_count": 21,
     "metadata": {},
     "output_type": "execute_result"
    }
   ],
   "source": [
    "forecast_predictions = final_model.forecast(43)#forecast to December 31,2020\n",
    "forecast_predictions"
   ]
  },
  {
   "cell_type": "code",
   "execution_count": 26,
   "metadata": {},
   "outputs": [
    {
     "data": {
      "image/png": "[encoded data removed]",
      "text/plain": [
       "<Figure size 864x576 with 1 Axes>"
      ]
     },
     "metadata": {
      "needs_background": "light"
     },
     "output_type": "display_data"
    }
   ],
   "source": [
    "df['total'].plot(figsize=(12,8))\n",
    "forecast_predictions.plot(legend=True,label='PREDICTION');"
   ]
  }
 ],
 "metadata": {
  "kernelspec": {
   "display_name": "Python 3",
   "language": "python",
   "name": "python3"
  },
  "language_info": {
   "codemirror_mode": {
    "name": "ipython",
    "version": 3
   },
   "file_extension": ".py",
   "mimetype": "text/x-python",
   "name": "python",
   "nbconvert_exporter": "python",
   "pygments_lexer": "ipython3",
   "version": "3.8.3"
  }
 },
 "nbformat": 4,
 "nbformat_minor": 4
}
